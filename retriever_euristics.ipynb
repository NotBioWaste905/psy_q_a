{
  "cells": [
    {
      "cell_type": "code",
      "source": [
        "!pip install sentence_transformers"
      ],
      "metadata": {
        "id": "F5T7SPaF88sA"
      },
      "id": "F5T7SPaF88sA",
      "execution_count": null,
      "outputs": []
    },
    {
      "cell_type": "code",
      "source": [
        "! pip install faiss-cpu"
      ],
      "metadata": {
        "id": "2onJpc3h9RLB"
      },
      "id": "2onJpc3h9RLB",
      "execution_count": null,
      "outputs": []
    },
    {
      "cell_type": "code",
      "source": [
        "!unzip /content/final_train_dataset.csv.zip"
      ],
      "metadata": {
        "id": "Ss2keU0dDHkX"
      },
      "id": "Ss2keU0dDHkX",
      "execution_count": null,
      "outputs": []
    },
    {
      "cell_type": "code",
      "execution_count": 5,
      "id": "cb500aa0-2c8e-4b6b-905c-470ae3135634",
      "metadata": {
        "id": "cb500aa0-2c8e-4b6b-905c-470ae3135634"
      },
      "outputs": [],
      "source": [
        "import pandas as pd\n",
        "import numpy as np\n",
        "from sentence_transformers import SentenceTransformer\n",
        "import faiss\n",
        "from tqdm.notebook import tqdm"
      ]
    },
    {
      "cell_type": "markdown",
      "id": "7f9f1e10-3d82-4e5b-9b40-5a95d795b7b8",
      "metadata": {
        "id": "7f9f1e10-3d82-4e5b-9b40-5a95d795b7b8"
      },
      "source": [
        "#### Getting data"
      ]
    },
    {
      "cell_type": "code",
      "execution_count": 7,
      "id": "e0004c48-af1c-4fa7-90d7-2a27570e5608",
      "metadata": {
        "colab": {
          "base_uri": "https://localhost:8080/",
          "height": 302
        },
        "id": "e0004c48-af1c-4fa7-90d7-2a27570e5608",
        "outputId": "eeb3b343-1c10-4468-d224-5c8983b0c697"
      },
      "outputs": [
        {
          "output_type": "execute_result",
          "data": {
            "text/plain": [
              "   Unnamed: 0                                            context  \\\n",
              "0           0  Она меня бьёт если не включаю Нет Нет)) Нет- с...   \n",
              "1           1  верю.. Верю, но сдается мне живет он, где то н...   \n",
              "2           2  Куда? главное, шо не меня, так что да. это лес...   \n",
              "3           3  на Прочие взаимоотношения расскажи ) ❤❤❤❤❤❤❤❤❤...   \n",
              "4           4  Дружбы не существует, есть лишь взаимовыгодные...   \n",
              "\n",
              "                                            question  \\\n",
              "0  Девушки вопрос немного эротичный... смотрите л...   \n",
              "1  Вы хоть не верите в сказку, что каждого ждет г...   \n",
              "2  Я видел на остановке девушка целует другую дев...   \n",
              "3    девчат вы хоть понимаете на что подписываетесь?   \n",
              "4  бывает ли дружба между маленькой 15 летней дев...   \n",
              "\n",
              "                                              answer  \n",
              "0  реала вполне хватает)) смотрят.. но отмазывают...  \n",
              "1  Тем более, что личный солидный опыт доказывает...  \n",
              "2  главное, шо не меня, так что да. это лесби нор...  \n",
              "3  на Прочие взаимоотношения расскажи ) ❤❤❤❤❤❤❤❤❤...  \n",
              "4  Дружбы не существует, есть лишь взаимовыгодные...  "
            ],
            "text/html": [
              "\n",
              "  <div id=\"df-8976479c-c90c-40b7-a225-68c18ec64f44\">\n",
              "    <div class=\"colab-df-container\">\n",
              "      <div>\n",
              "<style scoped>\n",
              "    .dataframe tbody tr th:only-of-type {\n",
              "        vertical-align: middle;\n",
              "    }\n",
              "\n",
              "    .dataframe tbody tr th {\n",
              "        vertical-align: top;\n",
              "    }\n",
              "\n",
              "    .dataframe thead th {\n",
              "        text-align: right;\n",
              "    }\n",
              "</style>\n",
              "<table border=\"1\" class=\"dataframe\">\n",
              "  <thead>\n",
              "    <tr style=\"text-align: right;\">\n",
              "      <th></th>\n",
              "      <th>Unnamed: 0</th>\n",
              "      <th>context</th>\n",
              "      <th>question</th>\n",
              "      <th>answer</th>\n",
              "    </tr>\n",
              "  </thead>\n",
              "  <tbody>\n",
              "    <tr>\n",
              "      <th>0</th>\n",
              "      <td>0</td>\n",
              "      <td>Она меня бьёт если не включаю Нет Нет)) Нет- с...</td>\n",
              "      <td>Девушки вопрос немного эротичный... смотрите л...</td>\n",
              "      <td>реала вполне хватает)) смотрят.. но отмазывают...</td>\n",
              "    </tr>\n",
              "    <tr>\n",
              "      <th>1</th>\n",
              "      <td>1</td>\n",
              "      <td>верю.. Верю, но сдается мне живет он, где то н...</td>\n",
              "      <td>Вы хоть не верите в сказку, что каждого ждет г...</td>\n",
              "      <td>Тем более, что личный солидный опыт доказывает...</td>\n",
              "    </tr>\n",
              "    <tr>\n",
              "      <th>2</th>\n",
              "      <td>2</td>\n",
              "      <td>Куда? главное, шо не меня, так что да. это лес...</td>\n",
              "      <td>Я видел на остановке девушка целует другую дев...</td>\n",
              "      <td>главное, шо не меня, так что да. это лесби нор...</td>\n",
              "    </tr>\n",
              "    <tr>\n",
              "      <th>3</th>\n",
              "      <td>3</td>\n",
              "      <td>на Прочие взаимоотношения расскажи ) ❤❤❤❤❤❤❤❤❤...</td>\n",
              "      <td>девчат вы хоть понимаете на что подписываетесь?</td>\n",
              "      <td>на Прочие взаимоотношения расскажи ) ❤❤❤❤❤❤❤❤❤...</td>\n",
              "    </tr>\n",
              "    <tr>\n",
              "      <th>4</th>\n",
              "      <td>4</td>\n",
              "      <td>Дружбы не существует, есть лишь взаимовыгодные...</td>\n",
              "      <td>бывает ли дружба между маленькой 15 летней дев...</td>\n",
              "      <td>Дружбы не существует, есть лишь взаимовыгодные...</td>\n",
              "    </tr>\n",
              "  </tbody>\n",
              "</table>\n",
              "</div>\n",
              "      <button class=\"colab-df-convert\" onclick=\"convertToInteractive('df-8976479c-c90c-40b7-a225-68c18ec64f44')\"\n",
              "              title=\"Convert this dataframe to an interactive table.\"\n",
              "              style=\"display:none;\">\n",
              "        \n",
              "  <svg xmlns=\"http://www.w3.org/2000/svg\" height=\"24px\"viewBox=\"0 0 24 24\"\n",
              "       width=\"24px\">\n",
              "    <path d=\"M0 0h24v24H0V0z\" fill=\"none\"/>\n",
              "    <path d=\"M18.56 5.44l.94 2.06.94-2.06 2.06-.94-2.06-.94-.94-2.06-.94 2.06-2.06.94zm-11 1L8.5 8.5l.94-2.06 2.06-.94-2.06-.94L8.5 2.5l-.94 2.06-2.06.94zm10 10l.94 2.06.94-2.06 2.06-.94-2.06-.94-.94-2.06-.94 2.06-2.06.94z\"/><path d=\"M17.41 7.96l-1.37-1.37c-.4-.4-.92-.59-1.43-.59-.52 0-1.04.2-1.43.59L10.3 9.45l-7.72 7.72c-.78.78-.78 2.05 0 2.83L4 21.41c.39.39.9.59 1.41.59.51 0 1.02-.2 1.41-.59l7.78-7.78 2.81-2.81c.8-.78.8-2.07 0-2.86zM5.41 20L4 18.59l7.72-7.72 1.47 1.35L5.41 20z\"/>\n",
              "  </svg>\n",
              "      </button>\n",
              "      \n",
              "  <style>\n",
              "    .colab-df-container {\n",
              "      display:flex;\n",
              "      flex-wrap:wrap;\n",
              "      gap: 12px;\n",
              "    }\n",
              "\n",
              "    .colab-df-convert {\n",
              "      background-color: #E8F0FE;\n",
              "      border: none;\n",
              "      border-radius: 50%;\n",
              "      cursor: pointer;\n",
              "      display: none;\n",
              "      fill: #1967D2;\n",
              "      height: 32px;\n",
              "      padding: 0 0 0 0;\n",
              "      width: 32px;\n",
              "    }\n",
              "\n",
              "    .colab-df-convert:hover {\n",
              "      background-color: #E2EBFA;\n",
              "      box-shadow: 0px 1px 2px rgba(60, 64, 67, 0.3), 0px 1px 3px 1px rgba(60, 64, 67, 0.15);\n",
              "      fill: #174EA6;\n",
              "    }\n",
              "\n",
              "    [theme=dark] .colab-df-convert {\n",
              "      background-color: #3B4455;\n",
              "      fill: #D2E3FC;\n",
              "    }\n",
              "\n",
              "    [theme=dark] .colab-df-convert:hover {\n",
              "      background-color: #434B5C;\n",
              "      box-shadow: 0px 1px 3px 1px rgba(0, 0, 0, 0.15);\n",
              "      filter: drop-shadow(0px 1px 2px rgba(0, 0, 0, 0.3));\n",
              "      fill: #FFFFFF;\n",
              "    }\n",
              "  </style>\n",
              "\n",
              "      <script>\n",
              "        const buttonEl =\n",
              "          document.querySelector('#df-8976479c-c90c-40b7-a225-68c18ec64f44 button.colab-df-convert');\n",
              "        buttonEl.style.display =\n",
              "          google.colab.kernel.accessAllowed ? 'block' : 'none';\n",
              "\n",
              "        async function convertToInteractive(key) {\n",
              "          const element = document.querySelector('#df-8976479c-c90c-40b7-a225-68c18ec64f44');\n",
              "          const dataTable =\n",
              "            await google.colab.kernel.invokeFunction('convertToInteractive',\n",
              "                                                     [key], {});\n",
              "          if (!dataTable) return;\n",
              "\n",
              "          const docLinkHtml = 'Like what you see? Visit the ' +\n",
              "            '<a target=\"_blank\" href=https://colab.research.google.com/notebooks/data_table.ipynb>data table notebook</a>'\n",
              "            + ' to learn more about interactive tables.';\n",
              "          element.innerHTML = '';\n",
              "          dataTable['output_type'] = 'display_data';\n",
              "          await google.colab.output.renderOutput(dataTable, element);\n",
              "          const docLink = document.createElement('div');\n",
              "          docLink.innerHTML = docLinkHtml;\n",
              "          element.appendChild(docLink);\n",
              "        }\n",
              "      </script>\n",
              "    </div>\n",
              "  </div>\n",
              "  "
            ]
          },
          "metadata": {},
          "execution_count": 7
        }
      ],
      "source": [
        "df = pd.read_csv('/content/final_train_dataset (1).csv', on_bad_lines = 'warn')\n",
        "df.head()"
      ]
    },
    {
      "cell_type": "code",
      "execution_count": null,
      "id": "0061ff0c-5b2c-4bb5-a3c2-fc4f73066fa3",
      "metadata": {
        "id": "0061ff0c-5b2c-4bb5-a3c2-fc4f73066fa3"
      },
      "outputs": [],
      "source": [
        "# def get_documents(data: pd.DataFrame) -> list:\n",
        "#     result = []\n",
        "#     answers = data['question'].to_list()\n",
        "#     for i in range(len(answers)):\n",
        "#         try:\n",
        "\n",
        "#             result.extend(eval(answers[i]))\n",
        "#         except SyntaxError as e:\n",
        "#             continue\n",
        "#         except NameError as e:\n",
        "#             continue\n",
        "\n",
        "#     return result"
      ]
    },
    {
      "cell_type": "code",
      "execution_count": null,
      "id": "6f02a3c0-1c7d-4385-aad9-1681c04970a4",
      "metadata": {
        "id": "6f02a3c0-1c7d-4385-aad9-1681c04970a4"
      },
      "outputs": [],
      "source": [
        "# answers = list(set(get_documents(df)))"
      ]
    },
    {
      "cell_type": "code",
      "execution_count": null,
      "id": "5442ea9d-aa32-4efd-aa10-84111067de99",
      "metadata": {
        "id": "5442ea9d-aa32-4efd-aa10-84111067de99"
      },
      "outputs": [],
      "source": [
        "# long_answers = []\n",
        "# for i in answers:\n",
        "#     if len(i) > 50:\n",
        "#         long_answers.append(i)"
      ]
    },
    {
      "cell_type": "code",
      "execution_count": 8,
      "id": "f0425a26-697d-4f6b-82e2-90fd772edc19",
      "metadata": {
        "id": "f0425a26-697d-4f6b-82e2-90fd772edc19"
      },
      "outputs": [],
      "source": [
        "questions = df['question'].to_list()"
      ]
    },
    {
      "cell_type": "code",
      "execution_count": 9,
      "id": "5b285fb1-5c3c-450f-964e-dcd84bd3b1bd",
      "metadata": {
        "id": "5b285fb1-5c3c-450f-964e-dcd84bd3b1bd"
      },
      "outputs": [],
      "source": [
        "document_mapper = dict(zip(list(range(len(questions))), questions))"
      ]
    },
    {
      "cell_type": "markdown",
      "id": "7352e824-a64a-4666-a4ee-d863cbe0879a",
      "metadata": {
        "id": "7352e824-a64a-4666-a4ee-d863cbe0879a"
      },
      "source": [
        "#### Creating index"
      ]
    },
    {
      "cell_type": "code",
      "execution_count": 10,
      "id": "3438e54b-072d-4ab9-8bef-a718268ac1c1",
      "metadata": {
        "id": "3438e54b-072d-4ab9-8bef-a718268ac1c1"
      },
      "outputs": [],
      "source": [
        "class Embedding_model:\n",
        "    def __init__(self):\n",
        "        self.transformer = SentenceTransformer('sentence-transformers/distiluse-base-multilingual-cased', device=f\"cuda:0\")\n",
        "\n",
        "    def __call__(self, text_batch):\n",
        "        embeddings = self.transformer.encode(\n",
        "            text_batch,\n",
        "            batch_size=100,\n",
        "            device=f\"cuda:0\",\n",
        "        )\n",
        "\n",
        "        return embeddings"
      ]
    },
    {
      "cell_type": "code",
      "execution_count": 11,
      "id": "80fdf5c6-f232-4ea2-875c-af15f2f92f12",
      "metadata": {
        "id": "80fdf5c6-f232-4ea2-875c-af15f2f92f12"
      },
      "outputs": [],
      "source": [
        "from torch.utils.data import Dataset, DataLoader\n",
        "\n",
        "class MyDataset(Dataset):\n",
        "\n",
        "  def __init__(self, document_mapper: dict):\n",
        "    self.answers = list(document_mapper.values())\n",
        "    self.indexes = list(document_mapper.keys())\n",
        "\n",
        "  def __len__(self):\n",
        "    return len(self.answers)\n",
        "\n",
        "  def __getitem__(self, idx):\n",
        "    return self.answers[idx], self.indexes[idx]"
      ]
    },
    {
      "cell_type": "code",
      "execution_count": 12,
      "id": "ba132d8f-f4fb-41e2-8ac4-8fdf77c88266",
      "metadata": {
        "id": "ba132d8f-f4fb-41e2-8ac4-8fdf77c88266"
      },
      "outputs": [],
      "source": [
        "def creating_index(document_mapper):\n",
        "    dataset = MyDataset(document_mapper)\n",
        "    data_loader = DataLoader(dataset, batch_size=1000, shuffle=True)\n",
        "\n",
        "    model = Embedding_model()\n",
        "\n",
        "    base_index = faiss.IndexFlat(512)\n",
        "\n",
        "    index = faiss.IndexIDMap2(base_index)\n",
        "\n",
        "    for question, ids in tqdm(data_loader):\n",
        "        vectors = model(question)\n",
        "\n",
        "        index.add_with_ids(vectors, ids)\n",
        "\n",
        "    faiss.write_index(index, f'faiss_index')\n",
        "\n",
        "    return index"
      ]
    },
    {
      "cell_type": "code",
      "execution_count": null,
      "id": "f91a18b2-4b41-42ec-971d-10c744ee6d35",
      "metadata": {
        "id": "f91a18b2-4b41-42ec-971d-10c744ee6d35"
      },
      "outputs": [],
      "source": [
        "index = creating_index(document_mapper)"
      ]
    },
    {
      "cell_type": "markdown",
      "id": "532aee83-325b-47cd-be6e-06e0e9280c69",
      "metadata": {
        "id": "532aee83-325b-47cd-be6e-06e0e9280c69"
      },
      "source": [
        "#### Retrieving"
      ]
    },
    {
      "cell_type": "code",
      "source": [
        "#index = faiss.read_index('faiss_index')"
      ],
      "metadata": {
        "id": "CRUZO2XWOwHA"
      },
      "id": "CRUZO2XWOwHA",
      "execution_count": 51,
      "outputs": []
    },
    {
      "cell_type": "code",
      "execution_count": 52,
      "id": "5cb454e9-6618-4ace-9b57-ab9982b42c03",
      "metadata": {
        "id": "5cb454e9-6618-4ace-9b57-ab9982b42c03"
      },
      "outputs": [],
      "source": [
        "model = Embedding_model()"
      ]
    },
    {
      "cell_type": "code",
      "execution_count": 53,
      "id": "46b56f77-51e9-41c5-9046-1d4f783b8de0",
      "metadata": {
        "id": "46b56f77-51e9-41c5-9046-1d4f783b8de0"
      },
      "outputs": [],
      "source": [
        "def search(question, k_index=100): #k_mmr=10, diversity=0.1):\n",
        "    result_dict = {}\n",
        "\n",
        "    query_emb = np.array([model(question)])\n",
        "    D, I = index.search(query_emb, k=k_index)\n",
        "    D, I = list(D[0]), list(I[0])\n",
        "\n",
        "    vectors = []\n",
        "    for i in range(len(I)):\n",
        "        result_dict[D[i]] = document_mapper[I[i]]\n",
        "\n",
        "    # vectors = index.reconstruct_batch(I)\n",
        "    # mmr_dict = mmr(query_emb, vectors, list(result_dict.keys()), diversity, k_mmr)\n",
        "\n",
        "    return result_dict #, mmr_dict"
      ]
    },
    {
      "cell_type": "code",
      "source": [
        "def retrieve(answers: dict, mapper: dict):\n",
        "  keys = list(answers.keys())\n",
        "  if keys[0] <= 0.1:\n",
        "    threshold = keys[0]\n",
        "    relevants = [answers[key] for key in keys if key < threshold+0.08]\n",
        "  else:\n",
        "    relevents = keys[:4]\n",
        "\n",
        "  ids = []\n",
        "  for i in relevants:\n",
        "    ids.append(list(document_mapper.keys())[list(document_mapper.values()).index(i)])\n",
        "\n",
        "  return list(set(ids))\n"
      ],
      "metadata": {
        "id": "wR2to-NMHHOj"
      },
      "id": "wR2to-NMHHOj",
      "execution_count": 54,
      "outputs": []
    },
    {
      "cell_type": "code",
      "source": [
        "def nicely_retrieved(question):\n",
        "  indexes = retrieve(search('Как справиться с депрессией?'), document_mapper)\n",
        "  return ';'.join(list(df.iloc[indexes]['context']))"
      ],
      "metadata": {
        "id": "_tnIeCaNNe8C"
      },
      "id": "_tnIeCaNNe8C",
      "execution_count": 55,
      "outputs": []
    },
    {
      "cell_type": "code",
      "source": [
        "print(nicely_retrieved('Как справиться с депрессией?'))"
      ],
      "metadata": {
        "colab": {
          "base_uri": "https://localhost:8080/"
        },
        "id": "I_hr0mTtIZ6-",
        "outputId": "04c6c57a-7b54-4733-a84f-73f5d79062fc"
      },
      "id": "I_hr0mTtIZ6-",
      "execution_count": 56,
      "outputs": [
        {
          "output_type": "stream",
          "name": "stdout",
          "text": [
            "Бабу найди. почему бы не навязать себе депрессию, а потом ныть в тырнетике посмотри порно, подрочи и ложись спать Начать что-то делать, а не искать отговорки чтобы поныть в тырнете Лучший антидепрессант \"ДАИХУЙСНИМ\" \"ДАИХУЙСНИМ\" сходи к психотерапевту Все начинается с нашего шоу бизнеса, с их быдлячей музыкой, песен, причем ворованной ))) меняй вкусы, стимулы, увлечения, друзей если тупые!;найди другую девушку, забудешь про неё моментально 100% 2 месяца мало. Время лечит. Со временем боль поугаснет. Не ходи той дорогой, болван. Это же логично Переключись на парней. Может новую завести??;менять обстановку движением Менять обстановку . Много работать . Противположным полом Я салом лечусь. ДЕФИЦИТ МАГНИЯ В ОРГАНИЗМЕ ВЫЗЫВАЕТ ДЕПРЕССИЮ.... ПРОСТО ПРОПЕЙ ПРЕПАРАТ МАГНЕЛИС В6 ИЛИ БОЛЕЕ ДОРОГОЙ АНАЛОГ ИЗ ФРАНЦИИ МАГНЕ В6 Принять радикальные меры. Делать то, что раньше не делала. Чтобы почувствовать риск. Вы увидите, что повысились до нового уровня, и будете гордиться собой! Антидепрессантами ...просто подумай над своей жизнью... и ты поймёшь... что необходимо жить.... препаратами и психотерапией. Истощение сил — Как с ним справиться? ***Двенадцать способов предотвратить истощение сил ЗДЕСЬ приводятся лишь некоторые советы специалистов в области психического здоровья. 1. Контролируй свои мысли, чувства и поступки; огромной помощью будет молитва. 2. Когда начинаешь беспокоиться, усилием воли переключись на какие-то конкретные полезные мысли. 3. Когда ты взволнован, сделай глубокий вдох и постарайся расслабиться. 4. Попробуй посмотреть на положение дел с точки зрения другого человека, это поможет тебе понять, как накопился стресс. 5. Сосредоточься на том, что ты ценишь в других и делай им комплименты. Не льсти, а высказывай заслуженную похвалу. 6. Выяви и искорени отрицательные, разрушающие мысли. 7. Умей сказать «нет», когда того требуют твои силы и распорядок дня. 8. Каждый день делай какие-нибудь физические упражнения; полезна прогулка быстрым шагом. 9. Оказывай уважание другим, побуждая их проявлять свои лучшие качества. 10. Не теряй оптимизма и чувства юмора. 11. Оставь проблемы на работе. 12. Все необходимое делай сегодня — не откладывай.;А мне на мотоцикле кататься одному скушно... Здесь может помочь психиатр.Полно мягких антидепрессантов, которые вылечат депрессию. Неправильно задали вопрос.\"Как справиться с ипохондрией/манией привлечения к себе внимания? Без любимого\". Глупость какая: живете для себя или какого-то мужчины (даже не абстрактного)? Время тратить и нервы - заболеть можно!! Оно Вам надо? Будешь грустная и кислая ходить - не встретишь!ты у себя одна, помни об этом) Варите варенье. Сейчас самые ягоды пошли. Отвлекитесь срочно от своих дум. Легче всеравно не будет. Почитайте стихи... Друнина, Лермонтов и др. Они об этом всё уже давно написали Нужно встречаться и выбирать, а не сидеть дома и ждать. Хватит уже жить прошлым. Он точку поставил в ваших отношениях и кайфует в реале, а у тебя всё ещё многоточия...;Вы живете чувствами другого человека. Самое важно это просто отпустить этого человека. Я думаю вам очень поможет Жак Фреско . На ютубе посмотрите ролик о том, как он говорит о депрессии. Говори каждое утро на рассвете в открытую форточку или замочную скважину: депрессия, изыди вон! Забей на эту бабу, или от депрессии можно заболеть смертельно Любую депрессию надо встречать с улыбкой. Депрессия подумает, что вы идиот, и сбежит. Вам подсознательно самобичевание, нытье, хотя реально молодой парень, не урод, мог бы это время не тратить на охи и ахи, а на новые встречи и отношения. Уйти в учебу или карьеру, в увлечения или хобби, а там бы Судьба сама подкинула Новые знакомства. Но.... Вы сами не хотите и Вам видать нравится втыкать и вздыхать. Сколько Вам лет? Как давно Вы расстались (два года назад расстались и все два года у Вас это состояние)? Как проявляется депрессия у Вас? Как пережить расставание?«Когда мы с моей девушкой расстались,— вспоминает Стивен,— я был просто раздавлен. В жизни не испытывал такой сильной душевной боли».Приходилось ли тебе переживать нечто подобное? Если да, эта статья будет тебе полезна.ДУШЕВНЫЕ РАНЫРасставание всегда болезненно для обоих. Если инициатива исходила от тебя, то, наверное, тебе знакомы чувства Жасмин. Она делится: «Жить с тем, что ты ранила дорогого тебе человека, очень непросто. Совесть не дает тебе покоя. Надеюсь, больше такого не повторится».Если же инициатором была другая сторона, ты, вероятно, поймешь, почему расставание сравнивают с маленькой смертью. Девушка по имени Джанет рассказывает: «Меня захлестнули самые разные чувства: я не желала признавать, что мы расстались, злилась, пыталась вернуть любимого, страдала депрессией и наконец, спустя почти год, смирилась».ПОДВЕДЕМ ИТОГ. Расставание может вызвать чувство опустошенности и глубокого уныния. В Библии сказано: «Пораженный дух иссушает кости» (Притчи 17:22).ЧТО МОЖНО СДЕЛАТЬДОВЕРЬСЯ ЗРЕЛОМУ ДРУГУ. Библейская притча гласит: «Настоящий друг любит во всякое время, он брат, рожденный на время бедствия» (Притчи 17:17). Если излить свои чувства кому-то из родителей или зрелому другу, это, скорее всего, поможет тебе прийти в себя и трезво оценить ситуацию.«Несколько месяцев я сторонилась всех и ни с кем не делилась своими чувствами. Но друзья как хорошее лекарство. Мне стало легче только тогда, когда я им открылась» (Джанет).ИЗВЛЕКАЙ УРОКИ ИЗ ПЕРЕЖИТОГО. Вот еще одна библейская притча: «Приобретай мудрость, приобретай понимание» (Притчи 4:5). Переживая неприятности, можно многое узнать о себе и о том, насколько ты способен справляться с разочарованием.«Когда меня бросила девушка, друг спросил: „Какие выводы ты для себя сделал? Как это в будущем поможет тебе строить отношения с кем-то еще? “» (Стивен).МОЛИСЬ. Библия призывает: «Возложи свое бремя на Иегову, и он поддержит тебя» (Псалом 55:22). Молитва поможет пережить боль и посмотреть на случившееся с другой стороны. «Молись все время. Иегова понимает, как тебе больно, и видит ситуацию лучше, чем ты» (Маршия).ПОМОГАЙ ДРУГИМ. Библия советует заботиться «не только о своих интересах, но и об интересах других» (Филиппийцам 2:4). Чем больше ты помогаешь людям, тем скорее боль расставания отойдет на задний план.«Расставание — это как конец света. Даже физическую боль терпеть легче. Но по себе знаю, что боль постепенно утихнет. Просто нужно время, и раны залечатся» (Эвелин).ps8318.com/finder?wtlocale=U&docid=502017130&srcid=share;Приходи к психологу, плати деньги)) откупори шампанского бутылку иль перечти женитьбу Фигаро © работу найти Надо её полюбить, а не бороться с ней. гуляю и развлекайся Анализировать свою жизнь, искать источник утечки жизненной энергии и устранять. К врачу специалисту. Никакого самолечения. Алкоголь не кто не отменял погрузиться в работу или заняться любимым делом\n"
          ]
        }
      ]
    },
    {
      "cell_type": "code",
      "execution_count": null,
      "id": "8d7d334c-4e69-41d7-98a5-a4846fb49090",
      "metadata": {
        "id": "8d7d334c-4e69-41d7-98a5-a4846fb49090"
      },
      "outputs": [],
      "source": [
        "# from sentence_transformers.util import dot_score\n",
        "\n",
        "# def mmr(query_embedding: np.ndarray,\n",
        "#         reviews_embeddings: np.ndarray,\n",
        "#         reviews,\n",
        "#         diversity: float = 0.1,\n",
        "#         top_n: int = 10):\n",
        "#     \"\"\" Maximal Marginal Relevance\n",
        "#     Arguments:\n",
        "#         query_embedding: The document embeddings\n",
        "#         reviews_embeddings: The embeddings of the selected candidate keywords/phrases\n",
        "#         reviews: The selected candidate keywords/keyphrases\n",
        "#         diversity: The diversity of the selected embeddings.\n",
        "#                    Values between 0 and 1.\n",
        "#         top_n: The top n items to return\n",
        "#     Returns:\n",
        "#             List[str]: The selected keywords/keyphrases\n",
        "#     \"\"\"\n",
        "\n",
        "\n",
        "#     reviews_query_similarity = dot_score(reviews_embeddings, query_embedding).detach().numpy()\n",
        "#     reviews_similarity = np.dot(reviews_embeddings, reviews_embeddings.T)\n",
        "\n",
        "\n",
        "#     keywords_idx = [np.argmax(reviews_query_similarity)]\n",
        "#     mmr_ranks = [np.max(reviews_query_similarity)]\n",
        "\n",
        "#     candidates_idx = [i for i in range(len(reviews)) if i != keywords_idx[0]]\n",
        "\n",
        "#     for _ in range(top_n - 1):\n",
        "#         candidate_similarities = reviews_query_similarity[candidates_idx, :]\n",
        "#         target_similarities = np.max(reviews_similarity[candidates_idx][:, keywords_idx], axis=1)\n",
        "\n",
        "\n",
        "#         mmr = (1-diversity) * candidate_similarities - diversity * target_similarities.reshape(-1, 1)\n",
        "#         mmr_value = np.max(mmr)\n",
        "#         mmr_idx = candidates_idx[np.argmax(mmr)]\n",
        "\n",
        "\n",
        "#         keywords_idx.append(mmr_idx)\n",
        "#         mmr_ranks.append(mmr_value)\n",
        "#         candidates_idx.remove(mmr_idx)\n",
        "\n",
        "#     output_reviews = {}\n",
        "#     for i in range(len(keywords_idx)):\n",
        "#         text = reviews[keywords_idx[i]]\n",
        "#         output_reviews[text] = mmr_ranks[i]\n",
        "\n",
        "#     return output_reviews\n"
      ]
    }
  ],
  "metadata": {
    "kernelspec": {
      "display_name": "Python 3",
      "name": "python3"
    },
    "language_info": {
      "codemirror_mode": {
        "name": "ipython",
        "version": 3
      },
      "file_extension": ".py",
      "mimetype": "text/x-python",
      "name": "python",
      "nbconvert_exporter": "python",
      "pygments_lexer": "ipython3",
      "version": "3.10.11"
    },
    "colab": {
      "provenance": [],
      "gpuType": "T4"
    },
    "accelerator": "GPU"
  },
  "nbformat": 4,
  "nbformat_minor": 5
}