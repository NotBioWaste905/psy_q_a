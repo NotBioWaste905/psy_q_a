{
  "cells": [
    {
      "cell_type": "code",
      "source": [
        "!pip install sentence_transformers"
      ],
      "metadata": {
        "id": "F5T7SPaF88sA",
        "colab": {
          "base_uri": "https://localhost:8080/"
        },
        "outputId": "fba7221c-c2dc-4644-b172-51363d02c8fc"
      },
      "id": "F5T7SPaF88sA",
      "execution_count": 2,
      "outputs": [
        {
          "output_type": "stream",
          "name": "stdout",
          "text": [
            "Looking in indexes: https://pypi.org/simple, https://us-python.pkg.dev/colab-wheels/public/simple/\n",
            "Collecting sentence_transformers\n",
            "  Downloading sentence-transformers-2.2.2.tar.gz (85 kB)\n",
            "\u001b[?25l     \u001b[90m━━━━━━━━━━━━━━━━━━━━━━━━━━━━━━━━━━━━━━━━\u001b[0m \u001b[32m0.0/86.0 kB\u001b[0m \u001b[31m?\u001b[0m eta \u001b[36m-:--:--\u001b[0m\r\u001b[2K     \u001b[90m━━━━━━━━━━━━━━━━━━━━━━━━━━━━━━━━━━━━━━━━\u001b[0m \u001b[32m86.0/86.0 kB\u001b[0m \u001b[31m5.8 MB/s\u001b[0m eta \u001b[36m0:00:00\u001b[0m\n",
            "\u001b[?25h  Preparing metadata (setup.py) ... \u001b[?25l\u001b[?25hdone\n",
            "Collecting transformers<5.0.0,>=4.6.0 (from sentence_transformers)\n",
            "  Downloading transformers-4.30.2-py3-none-any.whl (7.2 MB)\n",
            "\u001b[2K     \u001b[90m━━━━━━━━━━━━━━━━━━━━━━━━━━━━━━━━━━━━━━━━\u001b[0m \u001b[32m7.2/7.2 MB\u001b[0m \u001b[31m80.2 MB/s\u001b[0m eta \u001b[36m0:00:00\u001b[0m\n",
            "\u001b[?25hRequirement already satisfied: tqdm in /usr/local/lib/python3.10/dist-packages (from sentence_transformers) (4.65.0)\n",
            "Requirement already satisfied: torch>=1.6.0 in /usr/local/lib/python3.10/dist-packages (from sentence_transformers) (2.0.1+cu118)\n",
            "Requirement already satisfied: torchvision in /usr/local/lib/python3.10/dist-packages (from sentence_transformers) (0.15.2+cu118)\n",
            "Requirement already satisfied: numpy in /usr/local/lib/python3.10/dist-packages (from sentence_transformers) (1.22.4)\n",
            "Requirement already satisfied: scikit-learn in /usr/local/lib/python3.10/dist-packages (from sentence_transformers) (1.2.2)\n",
            "Requirement already satisfied: scipy in /usr/local/lib/python3.10/dist-packages (from sentence_transformers) (1.10.1)\n",
            "Requirement already satisfied: nltk in /usr/local/lib/python3.10/dist-packages (from sentence_transformers) (3.8.1)\n",
            "Collecting sentencepiece (from sentence_transformers)\n",
            "  Downloading sentencepiece-0.1.99-cp310-cp310-manylinux_2_17_x86_64.manylinux2014_x86_64.whl (1.3 MB)\n",
            "\u001b[2K     \u001b[90m━━━━━━━━━━━━━━━━━━━━━━━━━━━━━━━━━━━━━━━━\u001b[0m \u001b[32m1.3/1.3 MB\u001b[0m \u001b[31m60.1 MB/s\u001b[0m eta \u001b[36m0:00:00\u001b[0m\n",
            "\u001b[?25hCollecting huggingface-hub>=0.4.0 (from sentence_transformers)\n",
            "  Downloading huggingface_hub-0.15.1-py3-none-any.whl (236 kB)\n",
            "\u001b[2K     \u001b[90m━━━━━━━━━━━━━━━━━━━━━━━━━━━━━━━━━━━━━━\u001b[0m \u001b[32m236.8/236.8 kB\u001b[0m \u001b[31m30.8 MB/s\u001b[0m eta \u001b[36m0:00:00\u001b[0m\n",
            "\u001b[?25hRequirement already satisfied: filelock in /usr/local/lib/python3.10/dist-packages (from huggingface-hub>=0.4.0->sentence_transformers) (3.12.2)\n",
            "Requirement already satisfied: fsspec in /usr/local/lib/python3.10/dist-packages (from huggingface-hub>=0.4.0->sentence_transformers) (2023.6.0)\n",
            "Requirement already satisfied: requests in /usr/local/lib/python3.10/dist-packages (from huggingface-hub>=0.4.0->sentence_transformers) (2.27.1)\n",
            "Requirement already satisfied: pyyaml>=5.1 in /usr/local/lib/python3.10/dist-packages (from huggingface-hub>=0.4.0->sentence_transformers) (6.0)\n",
            "Requirement already satisfied: typing-extensions>=3.7.4.3 in /usr/local/lib/python3.10/dist-packages (from huggingface-hub>=0.4.0->sentence_transformers) (4.6.3)\n",
            "Requirement already satisfied: packaging>=20.9 in /usr/local/lib/python3.10/dist-packages (from huggingface-hub>=0.4.0->sentence_transformers) (23.1)\n",
            "Requirement already satisfied: sympy in /usr/local/lib/python3.10/dist-packages (from torch>=1.6.0->sentence_transformers) (1.11.1)\n",
            "Requirement already satisfied: networkx in /usr/local/lib/python3.10/dist-packages (from torch>=1.6.0->sentence_transformers) (3.1)\n",
            "Requirement already satisfied: jinja2 in /usr/local/lib/python3.10/dist-packages (from torch>=1.6.0->sentence_transformers) (3.1.2)\n",
            "Requirement already satisfied: triton==2.0.0 in /usr/local/lib/python3.10/dist-packages (from torch>=1.6.0->sentence_transformers) (2.0.0)\n",
            "Requirement already satisfied: cmake in /usr/local/lib/python3.10/dist-packages (from triton==2.0.0->torch>=1.6.0->sentence_transformers) (3.25.2)\n",
            "Requirement already satisfied: lit in /usr/local/lib/python3.10/dist-packages (from triton==2.0.0->torch>=1.6.0->sentence_transformers) (16.0.6)\n",
            "Requirement already satisfied: regex!=2019.12.17 in /usr/local/lib/python3.10/dist-packages (from transformers<5.0.0,>=4.6.0->sentence_transformers) (2022.10.31)\n",
            "Collecting tokenizers!=0.11.3,<0.14,>=0.11.1 (from transformers<5.0.0,>=4.6.0->sentence_transformers)\n",
            "  Downloading tokenizers-0.13.3-cp310-cp310-manylinux_2_17_x86_64.manylinux2014_x86_64.whl (7.8 MB)\n",
            "\u001b[2K     \u001b[90m━━━━━━━━━━━━━━━━━━━━━━━━━━━━━━━━━━━━━━━━\u001b[0m \u001b[32m7.8/7.8 MB\u001b[0m \u001b[31m73.8 MB/s\u001b[0m eta \u001b[36m0:00:00\u001b[0m\n",
            "\u001b[?25hCollecting safetensors>=0.3.1 (from transformers<5.0.0,>=4.6.0->sentence_transformers)\n",
            "  Downloading safetensors-0.3.1-cp310-cp310-manylinux_2_17_x86_64.manylinux2014_x86_64.whl (1.3 MB)\n",
            "\u001b[2K     \u001b[90m━━━━━━━━━━━━━━━━━━━━━━━━━━━━━━━━━━━━━━━━\u001b[0m \u001b[32m1.3/1.3 MB\u001b[0m \u001b[31m69.0 MB/s\u001b[0m eta \u001b[36m0:00:00\u001b[0m\n",
            "\u001b[?25hRequirement already satisfied: click in /usr/local/lib/python3.10/dist-packages (from nltk->sentence_transformers) (8.1.3)\n",
            "Requirement already satisfied: joblib in /usr/local/lib/python3.10/dist-packages (from nltk->sentence_transformers) (1.2.0)\n",
            "Requirement already satisfied: threadpoolctl>=2.0.0 in /usr/local/lib/python3.10/dist-packages (from scikit-learn->sentence_transformers) (3.1.0)\n",
            "Requirement already satisfied: pillow!=8.3.*,>=5.3.0 in /usr/local/lib/python3.10/dist-packages (from torchvision->sentence_transformers) (8.4.0)\n",
            "Requirement already satisfied: MarkupSafe>=2.0 in /usr/local/lib/python3.10/dist-packages (from jinja2->torch>=1.6.0->sentence_transformers) (2.1.3)\n",
            "Requirement already satisfied: urllib3<1.27,>=1.21.1 in /usr/local/lib/python3.10/dist-packages (from requests->huggingface-hub>=0.4.0->sentence_transformers) (1.26.16)\n",
            "Requirement already satisfied: certifi>=2017.4.17 in /usr/local/lib/python3.10/dist-packages (from requests->huggingface-hub>=0.4.0->sentence_transformers) (2023.5.7)\n",
            "Requirement already satisfied: charset-normalizer~=2.0.0 in /usr/local/lib/python3.10/dist-packages (from requests->huggingface-hub>=0.4.0->sentence_transformers) (2.0.12)\n",
            "Requirement already satisfied: idna<4,>=2.5 in /usr/local/lib/python3.10/dist-packages (from requests->huggingface-hub>=0.4.0->sentence_transformers) (3.4)\n",
            "Requirement already satisfied: mpmath>=0.19 in /usr/local/lib/python3.10/dist-packages (from sympy->torch>=1.6.0->sentence_transformers) (1.3.0)\n",
            "Building wheels for collected packages: sentence_transformers\n",
            "  Building wheel for sentence_transformers (setup.py) ... \u001b[?25l\u001b[?25hdone\n",
            "  Created wheel for sentence_transformers: filename=sentence_transformers-2.2.2-py3-none-any.whl size=125926 sha256=d25eef1e38ac9e8d11e3ca0ec071f321a9ae9cc6a57f6284cb10c8eb912a6983\n",
            "  Stored in directory: /root/.cache/pip/wheels/62/f2/10/1e606fd5f02395388f74e7462910fe851042f97238cbbd902f\n",
            "Successfully built sentence_transformers\n",
            "Installing collected packages: tokenizers, sentencepiece, safetensors, huggingface-hub, transformers, sentence_transformers\n",
            "Successfully installed huggingface-hub-0.15.1 safetensors-0.3.1 sentence_transformers-2.2.2 sentencepiece-0.1.99 tokenizers-0.13.3 transformers-4.30.2\n"
          ]
        }
      ]
    },
    {
      "cell_type": "code",
      "source": [
        "! pip install faiss-cpu"
      ],
      "metadata": {
        "id": "2onJpc3h9RLB",
        "colab": {
          "base_uri": "https://localhost:8080/"
        },
        "outputId": "e54d189f-ea64-47f0-c7b6-49232b143d82"
      },
      "id": "2onJpc3h9RLB",
      "execution_count": 3,
      "outputs": [
        {
          "output_type": "stream",
          "name": "stdout",
          "text": [
            "Looking in indexes: https://pypi.org/simple, https://us-python.pkg.dev/colab-wheels/public/simple/\n",
            "Collecting faiss-cpu\n",
            "  Downloading faiss_cpu-1.7.4-cp310-cp310-manylinux_2_17_x86_64.manylinux2014_x86_64.whl (17.6 MB)\n",
            "\u001b[2K     \u001b[90m━━━━━━━━━━━━━━━━━━━━━━━━━━━━━━━━━━━━━━━━\u001b[0m \u001b[32m17.6/17.6 MB\u001b[0m \u001b[31m90.0 MB/s\u001b[0m eta \u001b[36m0:00:00\u001b[0m\n",
            "\u001b[?25hInstalling collected packages: faiss-cpu\n",
            "Successfully installed faiss-cpu-1.7.4\n"
          ]
        }
      ]
    },
    {
      "cell_type": "code",
      "source": [
        "!unzip /content/final_train_dataset.csv.zip"
      ],
      "metadata": {
        "id": "Ss2keU0dDHkX",
        "colab": {
          "base_uri": "https://localhost:8080/"
        },
        "outputId": "fa756bf2-9397-4a5f-a13b-46d5b850727d"
      },
      "id": "Ss2keU0dDHkX",
      "execution_count": 4,
      "outputs": [
        {
          "output_type": "stream",
          "name": "stdout",
          "text": [
            "Archive:  /content/final_train_dataset.csv.zip\n",
            "  inflating: final_train_dataset (1).csv  \n",
            "  inflating: __MACOSX/._final_train_dataset (1).csv  \n"
          ]
        }
      ]
    },
    {
      "cell_type": "code",
      "execution_count": 5,
      "id": "cb500aa0-2c8e-4b6b-905c-470ae3135634",
      "metadata": {
        "id": "cb500aa0-2c8e-4b6b-905c-470ae3135634"
      },
      "outputs": [],
      "source": [
        "import pandas as pd\n",
        "import numpy as np\n",
        "from sentence_transformers import SentenceTransformer\n",
        "import faiss\n",
        "from tqdm.notebook import tqdm"
      ]
    },
    {
      "cell_type": "markdown",
      "id": "7f9f1e10-3d82-4e5b-9b40-5a95d795b7b8",
      "metadata": {
        "id": "7f9f1e10-3d82-4e5b-9b40-5a95d795b7b8"
      },
      "source": [
        "#### Getting data"
      ]
    },
    {
      "cell_type": "code",
      "execution_count": 6,
      "id": "e0004c48-af1c-4fa7-90d7-2a27570e5608",
      "metadata": {
        "colab": {
          "base_uri": "https://localhost:8080/"
        },
        "id": "e0004c48-af1c-4fa7-90d7-2a27570e5608",
        "outputId": "202934fe-d202-41e3-956a-ed1b19fe7ace"
      },
      "outputs": [
        {
          "output_type": "execute_result",
          "data": {
            "text/plain": [
              "1271"
            ]
          },
          "metadata": {},
          "execution_count": 6
        }
      ],
      "source": [
        "df = pd.read_csv('/content/final_train_dataset (1).csv', on_bad_lines = 'warn')\n",
        "#df['context'] = df['context'].fillna('')\n",
        "df['context'].isna().sum()"
      ]
    },
    {
      "cell_type": "code",
      "source": [
        "df['context'] = df['context'].fillna('')"
      ],
      "metadata": {
        "id": "8lqt5foxYufd"
      },
      "id": "8lqt5foxYufd",
      "execution_count": 7,
      "outputs": []
    },
    {
      "cell_type": "code",
      "execution_count": 8,
      "id": "0061ff0c-5b2c-4bb5-a3c2-fc4f73066fa3",
      "metadata": {
        "id": "0061ff0c-5b2c-4bb5-a3c2-fc4f73066fa3"
      },
      "outputs": [],
      "source": [
        "def get_documents(data: pd.DataFrame) -> list:\n",
        "    result = []\n",
        "    answers = data['context'].to_list()\n",
        "    for i in range(len(answers)):\n",
        "        try:\n",
        "          #print(answers[i])\n",
        "          result.append(answers[i])\n",
        "        # except Exception as e:\n",
        "        #   continue\n",
        "        except SyntaxError as e:\n",
        "          continue\n",
        "        except NameError as e:\n",
        "          continue\n",
        "\n",
        "    return result"
      ]
    },
    {
      "cell_type": "code",
      "execution_count": 9,
      "id": "6f02a3c0-1c7d-4385-aad9-1681c04970a4",
      "metadata": {
        "id": "6f02a3c0-1c7d-4385-aad9-1681c04970a4"
      },
      "outputs": [],
      "source": [
        "answers = list(get_documents(df))"
      ]
    },
    {
      "cell_type": "code",
      "source": [
        "\n",
        "answers = set(answers)"
      ],
      "metadata": {
        "id": "QzGGHDZlWqJ4"
      },
      "id": "QzGGHDZlWqJ4",
      "execution_count": 10,
      "outputs": []
    },
    {
      "cell_type": "code",
      "execution_count": 11,
      "id": "5442ea9d-aa32-4efd-aa10-84111067de99",
      "metadata": {
        "id": "5442ea9d-aa32-4efd-aa10-84111067de99"
      },
      "outputs": [],
      "source": [
        "long_answers = []\n",
        "for i in answers:\n",
        "    if len(i) > 50:\n",
        "        long_answers.append(i)"
      ]
    },
    {
      "cell_type": "code",
      "source": [
        "len(long_answers)"
      ],
      "metadata": {
        "colab": {
          "base_uri": "https://localhost:8080/"
        },
        "id": "pfURbTRld4cz",
        "outputId": "6bab9f52-22a8-4af0-ec9f-9c023296c46f"
      },
      "id": "pfURbTRld4cz",
      "execution_count": 12,
      "outputs": [
        {
          "output_type": "execute_result",
          "data": {
            "text/plain": [
              "59866"
            ]
          },
          "metadata": {},
          "execution_count": 12
        }
      ]
    },
    {
      "cell_type": "code",
      "execution_count": null,
      "id": "f0425a26-697d-4f6b-82e2-90fd772edc19",
      "metadata": {
        "id": "f0425a26-697d-4f6b-82e2-90fd772edc19"
      },
      "outputs": [],
      "source": [
        "questions = df['question'].to_list()"
      ]
    },
    {
      "cell_type": "code",
      "execution_count": 13,
      "id": "5b285fb1-5c3c-450f-964e-dcd84bd3b1bd",
      "metadata": {
        "id": "5b285fb1-5c3c-450f-964e-dcd84bd3b1bd"
      },
      "outputs": [],
      "source": [
        "document_mapper = dict(zip(list(range(len(long_answers))), long_answers))"
      ]
    },
    {
      "cell_type": "markdown",
      "id": "7352e824-a64a-4666-a4ee-d863cbe0879a",
      "metadata": {
        "id": "7352e824-a64a-4666-a4ee-d863cbe0879a"
      },
      "source": [
        "#### Creating index"
      ]
    },
    {
      "cell_type": "code",
      "execution_count": 19,
      "id": "3438e54b-072d-4ab9-8bef-a718268ac1c1",
      "metadata": {
        "id": "3438e54b-072d-4ab9-8bef-a718268ac1c1"
      },
      "outputs": [],
      "source": [
        "class Embedding_model:\n",
        "    def __init__(self):\n",
        "        self.transformer = SentenceTransformer('sentence-transformers/distiluse-base-multilingual-cased', device=f\"cuda:0\")\n",
        "\n",
        "    def __call__(self, text_batch):\n",
        "        embeddings = self.transformer.encode(\n",
        "            text_batch,\n",
        "            batch_size=100,\n",
        "            device=f\"cuda:0\",\n",
        "        )\n",
        "\n",
        "        return embeddings"
      ]
    },
    {
      "cell_type": "code",
      "execution_count": 20,
      "id": "80fdf5c6-f232-4ea2-875c-af15f2f92f12",
      "metadata": {
        "id": "80fdf5c6-f232-4ea2-875c-af15f2f92f12"
      },
      "outputs": [],
      "source": [
        "from torch.utils.data import Dataset, DataLoader\n",
        "\n",
        "class MyDataset(Dataset):\n",
        "\n",
        "  def __init__(self, document_mapper: dict):\n",
        "    self.answers = list(document_mapper.values())\n",
        "    self.indexes = list(document_mapper.keys())\n",
        "\n",
        "  def __len__(self):\n",
        "    return len(self.answers)\n",
        "\n",
        "  def __getitem__(self, idx):\n",
        "    return self.answers[idx], self.indexes[idx]"
      ]
    },
    {
      "cell_type": "code",
      "execution_count": 21,
      "id": "ba132d8f-f4fb-41e2-8ac4-8fdf77c88266",
      "metadata": {
        "id": "ba132d8f-f4fb-41e2-8ac4-8fdf77c88266"
      },
      "outputs": [],
      "source": [
        "def creating_index(document_mapper):\n",
        "    dataset = MyDataset(document_mapper)\n",
        "    data_loader = DataLoader(dataset, batch_size=1000, shuffle=True)\n",
        "\n",
        "    model = Embedding_model()\n",
        "\n",
        "    base_index = faiss.IndexFlat(512)\n",
        "\n",
        "    index = faiss.IndexIDMap2(base_index)\n",
        "\n",
        "    for question, ids in tqdm(data_loader):\n",
        "        vectors = model(question)\n",
        "\n",
        "        index.add_with_ids(vectors, ids)\n",
        "\n",
        "    faiss.write_index(index, f'faiss_index')\n",
        "\n",
        "    return index"
      ]
    },
    {
      "cell_type": "code",
      "execution_count": 28,
      "id": "f91a18b2-4b41-42ec-971d-10c744ee6d35",
      "metadata": {
        "id": "f91a18b2-4b41-42ec-971d-10c744ee6d35",
        "colab": {
          "base_uri": "https://localhost:8080/",
          "height": 49,
          "referenced_widgets": [
            "e001b2c5ace74088b94a3c0e83c8ffc4",
            "b8ffea7c2b9149eba10329a9e0b62f18",
            "52f4275e91fc436ba359e59ab2a06b89",
            "ee91d1632f0b4ca7aa6b9eec88e99226",
            "dbde82d05226470db5f8179d5614d743",
            "52e998827cb7452ba9bbd3868896983c",
            "f524d52841b04ae08cabd0e59e1b6d97",
            "9efbf3292ccf443aaccfe499587976dd",
            "9742948344d345e3b1506b137fd43312",
            "9bd6a493eb1741159be434b5b7a99007",
            "18c5384bb1284a119bad454dc7bc1cf2"
          ]
        },
        "outputId": "ccb22119-aa85-4eb5-8367-3d3d40db66c6"
      },
      "outputs": [
        {
          "output_type": "display_data",
          "data": {
            "text/plain": [
              "  0%|          | 0/60 [00:00<?, ?it/s]"
            ],
            "application/vnd.jupyter.widget-view+json": {
              "version_major": 2,
              "version_minor": 0,
              "model_id": "e001b2c5ace74088b94a3c0e83c8ffc4"
            }
          },
          "metadata": {}
        }
      ],
      "source": [
        "index = creating_index(document_mapper)"
      ]
    },
    {
      "cell_type": "markdown",
      "id": "532aee83-325b-47cd-be6e-06e0e9280c69",
      "metadata": {
        "id": "532aee83-325b-47cd-be6e-06e0e9280c69"
      },
      "source": [
        "#### Retrieving"
      ]
    },
    {
      "cell_type": "code",
      "source": [
        "!unzip faiss_index.zip"
      ],
      "metadata": {
        "colab": {
          "base_uri": "https://localhost:8080/"
        },
        "id": "p7ftHeD8u0CQ",
        "outputId": "38fa8a39-3e88-4736-ef1b-954144b3b711"
      },
      "id": "p7ftHeD8u0CQ",
      "execution_count": 16,
      "outputs": [
        {
          "output_type": "stream",
          "name": "stdout",
          "text": [
            "Archive:  faiss_index.zip\n",
            "  inflating: faiss_index (1)         \n",
            "  inflating: __MACOSX/._faiss_index (1)  \n"
          ]
        }
      ]
    },
    {
      "cell_type": "code",
      "source": [
        "#index = faiss.read_index('faiss_index (1)')"
      ],
      "metadata": {
        "id": "CRUZO2XWOwHA"
      },
      "id": "CRUZO2XWOwHA",
      "execution_count": 17,
      "outputs": []
    },
    {
      "cell_type": "code",
      "execution_count": 29,
      "id": "5cb454e9-6618-4ace-9b57-ab9982b42c03",
      "metadata": {
        "id": "5cb454e9-6618-4ace-9b57-ab9982b42c03"
      },
      "outputs": [],
      "source": [
        "model = Embedding_model()"
      ]
    },
    {
      "cell_type": "code",
      "execution_count": 30,
      "id": "8d7d334c-4e69-41d7-98a5-a4846fb49090",
      "metadata": {
        "id": "8d7d334c-4e69-41d7-98a5-a4846fb49090"
      },
      "outputs": [],
      "source": [
        "from sentence_transformers.util import dot_score\n",
        "\n",
        "def mmr(query_embedding: np.ndarray,\n",
        "        reviews_embeddings: np.ndarray,\n",
        "        reviews,\n",
        "        diversity: float = 0.1,\n",
        "        top_n: int = 10):\n",
        "    \"\"\" Maximal Marginal Relevance\n",
        "    Arguments:\n",
        "        query_embedding: The document embeddings\n",
        "        reviews_embeddings: The embeddings of the selected candidate keywords/phrases\n",
        "        reviews: The selected candidate keywords/keyphrases\n",
        "        diversity: The diversity of the selected embeddings.\n",
        "                   Values between 0 and 1.\n",
        "        top_n: The top n items to return\n",
        "    Returns:\n",
        "            List[str]: The selected keywords/keyphrases\n",
        "    \"\"\"\n",
        "\n",
        "\n",
        "    reviews_query_similarity = dot_score(reviews_embeddings, query_embedding).detach().numpy()\n",
        "    reviews_similarity = np.dot(reviews_embeddings, reviews_embeddings.T)\n",
        "\n",
        "\n",
        "    keywords_idx = [np.argmax(reviews_query_similarity)]\n",
        "    mmr_ranks = [np.max(reviews_query_similarity)]\n",
        "\n",
        "    candidates_idx = [i for i in range(len(reviews)) if i != keywords_idx[0]]\n",
        "\n",
        "    for _ in range(top_n - 1):\n",
        "        candidate_similarities = reviews_query_similarity[candidates_idx, :]\n",
        "        target_similarities = np.max(reviews_similarity[candidates_idx][:, keywords_idx], axis=1)\n",
        "\n",
        "\n",
        "        mmr = (1-diversity) * candidate_similarities - diversity * target_similarities.reshape(-1, 1)\n",
        "        mmr_value = np.max(mmr)\n",
        "        mmr_idx = candidates_idx[np.argmax(mmr)]\n",
        "\n",
        "\n",
        "        keywords_idx.append(mmr_idx)\n",
        "        mmr_ranks.append(mmr_value)\n",
        "        candidates_idx.remove(mmr_idx)\n",
        "\n",
        "    output_reviews = {}\n",
        "    for i in range(len(keywords_idx)):\n",
        "        text = reviews[keywords_idx[i]]\n",
        "        output_reviews[text] = mmr_ranks[i]\n",
        "\n",
        "    return output_reviews\n"
      ]
    },
    {
      "cell_type": "code",
      "execution_count": 31,
      "id": "46b56f77-51e9-41c5-9046-1d4f783b8de0",
      "metadata": {
        "id": "46b56f77-51e9-41c5-9046-1d4f783b8de0"
      },
      "outputs": [],
      "source": [
        "def search(question, k_index=100, k_mmr=10, diversity=0.1):\n",
        "    result_dict = {}\n",
        "\n",
        "    query_emb = np.array([model(question)])\n",
        "    D, I = index.search(query_emb, k=k_index)\n",
        "    D, I = list(D[0]), list(I[0])\n",
        "\n",
        "    vectors = []\n",
        "    for i in range(len(I)):\n",
        "        result_dict[document_mapper[I[i]]] = D[i]\n",
        "\n",
        "    vectors = index.reconstruct_batch(I)\n",
        "    mmr_dict = mmr(query_emb, vectors, list(result_dict.keys()), diversity, k_mmr)\n",
        "\n",
        "    return result_dict , mmr_dict"
      ]
    },
    {
      "cell_type": "code",
      "source": [
        "def retrieve(answers: dict, mapper: dict):\n",
        "  keys = list(answers.keys())\n",
        "  if keys[0] <= 0.1:\n",
        "    threshold = keys[0]\n",
        "    relevants = [answers[key] for key in keys if key < threshold+0.08]\n",
        "  else:\n",
        "    relevents = keys[:4]\n",
        "\n",
        "  ids = []\n",
        "  for i in relevants:\n",
        "    ids.append(list(document_mapper.keys())[list(document_mapper.values()).index(i)])\n",
        "\n",
        "  return list(set(ids))\n"
      ],
      "metadata": {
        "id": "wR2to-NMHHOj"
      },
      "id": "wR2to-NMHHOj",
      "execution_count": 32,
      "outputs": []
    },
    {
      "cell_type": "code",
      "source": [
        "def nicely_retrieved(question):\n",
        "  phrases = search(question)[1]\n",
        "  top_3 = list(phrases.keys())[:3]\n",
        "  return ';'.join(top_3)"
      ],
      "metadata": {
        "id": "_tnIeCaNNe8C"
      },
      "id": "_tnIeCaNNe8C",
      "execution_count": 45,
      "outputs": []
    },
    {
      "cell_type": "code",
      "source": [
        "print(*nicely_retrieved('Как справиться с депрессией?').split(';'), sep='\\n\\n')"
      ],
      "metadata": {
        "colab": {
          "base_uri": "https://localhost:8080/"
        },
        "id": "I_hr0mTtIZ6-",
        "outputId": "e78173f6-0077-4cfd-8c0e-75c6765f64a7"
      },
      "id": "I_hr0mTtIZ6-",
      "execution_count": 51,
      "outputs": [
        {
          "output_type": "stream",
          "name": "stdout",
          "text": [
            "Здравствуйте похоже на маниакально - депрессивное состояние, может быть как форма болезни, а  может как состояние. Ощущаете ли в периоды  апатии депрессию? Сколько длиться по времени состояние апатии ? \n",
            "\n",
            "ну мне кто то говорил что депрессия это грех вообще,тебе надо просто отдохнуть Смотря по каким причинам у тебя депрессия ты хочешь об этом поговорить ? найди дело по душе Ты просишь помощи, при этом не говоришь... от чего тебе помочь... откуда я могу знать... почему ты в депрессии.. по какой причине.... А судя по вопросу... твоя депрессия называется ЛЕНЬ! От нервов седативное а дальше работать над этим и большое желание вылезти. Без подробностей у вас не будет конкретных советов возможно хороший психолог нужен. Ещё возможно что вы депрессией какую нибудь фигню называете. Поговорить со своей головой. Взять листок с ручкой и записать все что тревожит, что бы хотелось изменить, что лишнее в жизни и тд.... а дальше осознанно стремиться к достижению спокойствия в душе... Нам не всегда под силу изменить свои обстоятельства, и время от времени мы неизбежно будем сталкиваться со злом. Однако можно предпринять определенные шаги, чтобы не позволить негативным чувствам преобладать в своей жизни.ЧТО ГОВОРИТ БИБЛИЯСлово Бога признаёт, что больные нуждаются во враче . Поэтому, если у вас серьезное эмоциональное расстройство, нет ничего неправильного в том, чтобы обратиться за медицинской помощью. Библия также подчеркивает ценность молитвы. В Псалме 55:22 говорится: «Возложи свое бремя на Господа, и он поддержит тебя. Никогда не даст он поколебаться праведному». Молитва к Богу — это не психологический прием. Это живое общение с Богом, который «близок к удрученным сердцем».Вы также можете поделиться своими чувствами с близким другом. Сабит, Здравствуйте! Судя по всему, Ваша депрессия из-за разрыва отношений? Если да, то это вероятно, не депрессия вовсе, а одна из стадий расставания \"апатия\", когда нет желания ни к чему в мире. Это проходит, таким образом, психика восстанавливает свои ресурсы, ведь расставание - это болезненный процесс.\n",
            "\n",
            "Справиться с депрессией может помочь либо работа с психологом в формате регулярных встреч - либо медикаментозное лечение которое может назначить врач-психиатр. У вас указано что вы из Москвы -выбирайте подходящий вам вариант и обращайтесь за помощью! Удачи вам! Пётр {{NAME}}, психолог-психотерапевтОчные консультации/психотерапия в Москве - индивидуально и в группе, а также по Skype.   Дело в том, что в родах задействовао много сил женщины и послеродовая депрессия - это нормальное состояние. Обычно оно проходит само без каких либо медикаментов. Тут важно ен зацикливаться в даном состоянии и не требовать от окружающих всеобщей любви понимания помощи и поддержки и пр. То есть обычные капризы, к которым привыкла беременная женщина. Возможно теперь у вас есть \"конкуренция\", не вы центр вселенной для семьи, а новорожденный.  Со страхом проще подумать и разобраться, возможно работа с психогом. Вы прекрасная мать, ибо плохих матерей не бывает, каждая мать - лучшая мать для своего ребенка. У {{NAME}} есть фраза - только мама знает, что ребенку нужно  Для успокоения можно проделать нескольк простых упражнений 1. когда вы ловите себя на навязчивой мысли, говорите себе - я закончил. И так каждый раз. даже если вы заметили данные мысли часто, говорите Я закончил. Таким образом нересурсных мыслей становится все меньше и в итоге проходят совсем. 2. возьмите бумагу и напишите все те оскорбления и претензии и опасения этому человеку в виде письма. Все что хотели ей сказать, но воспитание не позволило. После этого письмо сжечь в туалете и смыть пепел 3. Есть еще метод. На листе бумаги просто что то рисуете в стиле \"каля-маля\" и в это время думаете о том плохом, что с вами приключилось. представьте что через руку выходит из мыслей головы, сердца, всего тела весь негатив, который там есть... цвет карандаша или ручки можете выбрать произвольно. По окончании работы сжечь бумагу. Можно сделать 2 раза в неделю данное упражнение. 4. в течении дня говорите про себя - я хороший. так делается несколько раз в день. Особенно когда вам кажется, что все наоборот ...   Впереди еще очень много интересного и конечно без сложностей не обойдется, но материнство - это всегда прекрасно. ПОздравляю с рождением малыша и рада, что вам удалось испытать счастье быть матерью  \n"
          ]
        }
      ]
    },
    {
      "cell_type": "code",
      "source": [
        "! pip install sumy"
      ],
      "metadata": {
        "id": "o6DoWszb5xQZ"
      },
      "id": "o6DoWszb5xQZ",
      "execution_count": null,
      "outputs": []
    },
    {
      "cell_type": "code",
      "source": [
        "from sumy.summarizers.lsa import LsaSummarizer as Summarizer\n",
        "from sumy.parsers.plaintext import PlaintextParser\n",
        "from sumy.nlp.tokenizers import Tokenizer\n",
        "from sumy.nlp.stemmers import Stemmer\n",
        "from sumy.summarizers.lsa import LsaSummarizer as Summarizer\n",
        "\n",
        "import nltk\n",
        "nltk.download('punkt')\n",
        "\n",
        "def summary(text):\n",
        "  LANGUAGE = 'russian'\n",
        "  parser = PlaintextParser.from_string(text, Tokenizer(LANGUAGE))\n",
        "  stemmer = Stemmer(LANGUAGE)\n",
        "\n",
        "  summarizer = Summarizer(stemmer)\n",
        "\n",
        "  final =[]\n",
        "  for sentence in summarizer(parser.document, 35):\n",
        "    final.append(str(sentence))\n",
        "  return ';'.join(final)"
      ],
      "metadata": {
        "colab": {
          "base_uri": "https://localhost:8080/"
        },
        "id": "JEnql4zy4lXU",
        "outputId": "8cc9b13c-b910-4808-afd4-2ab607197330"
      },
      "id": "JEnql4zy4lXU",
      "execution_count": 74,
      "outputs": [
        {
          "output_type": "stream",
          "name": "stderr",
          "text": [
            "[nltk_data] Downloading package punkt to /root/nltk_data...\n",
            "[nltk_data]   Package punkt is already up-to-date!\n"
          ]
        }
      ]
    },
    {
      "cell_type": "code",
      "source": [
        "print(nicely_retrieved('Что делать, если меня бросил парень?'))"
      ],
      "metadata": {
        "colab": {
          "base_uri": "https://localhost:8080/"
        },
        "id": "OrRXLGYHcKGN",
        "outputId": "fadf9017-6e04-4f6f-b1bc-a5d3c14668be"
      },
      "id": "OrRXLGYHcKGN",
      "execution_count": 54,
      "outputs": [
        {
          "output_type": "stream",
          "name": "stdout",
          "text": [
            "А кто кого бросил? дружба с бывшим парнем невозможна. почему ты предложила расстаться? Чё делать? Спроси у лучшей подруги. Обычно они помогают избавляться от надоевших парней. Нужно помогать друг другу.;О смысле жизни ...) Куда я попаду?Куда надо?И когда? О деньгах О свечке.;уйду Отпущу его с миром. Не навязываюсь.Плохой тон. Ушёл же.. Ушла бы... Я выгоняю её из своей квартиры. Если люблю, то уйду.\n"
          ]
        }
      ]
    },
    {
      "cell_type": "code",
      "source": [
        "type(summary(nicely_retrieved('Как справиться с депрессией?')))"
      ],
      "metadata": {
        "colab": {
          "base_uri": "https://localhost:8080/"
        },
        "id": "jzUVesi44LE-",
        "outputId": "fd964b22-0971-42c8-a4ac-d166c16fd447"
      },
      "id": "jzUVesi44LE-",
      "execution_count": 76,
      "outputs": [
        {
          "output_type": "execute_result",
          "data": {
            "text/plain": [
              "str"
            ]
          },
          "metadata": {},
          "execution_count": 76
        }
      ]
    },
    {
      "cell_type": "code",
      "source": [
        "with open('test_fin.txt', 'w') as f:\n",
        "  questions = ['Как справиться с депрессией?', 'Как перестать грустить?',\n",
        "               'Есть ли дружба между мужчиной и женщиной?', 'Как понять, что мои родители абьюзеры?', 'Как манипулировать парнем?']\n",
        "  for i in questions:\n",
        "    s_r = summary(nicely_retrieved(i))\n",
        "    f.write(f'{i}  |  {s_r}\\n\\n')\n",
        "    print(s_r)"
      ],
      "metadata": {
        "colab": {
          "base_uri": "https://localhost:8080/"
        },
        "id": "S1t0v2GI6lBZ",
        "outputId": "b6e56354-daad-4cf7-b507-68c688385e5f"
      },
      "id": "S1t0v2GI6lBZ",
      "execution_count": 84,
      "outputs": [
        {
          "output_type": "stream",
          "name": "stdout",
          "text": [
            "Здравствуйте похоже на маниакально - депрессивное состояние, может быть как форма болезни, а  может как состояние.;Ощущаете ли в периоды  апатии депрессию?;Сколько длиться по времени состояние апатии ?;;ну мне кто то говорил что депрессия это грех вообще,тебе надо просто отдохнуть Смотря по каким причинам у тебя депрессия ты хочешь об этом поговорить ?;найди дело по душе Ты просишь помощи, при этом не говоришь... от чего тебе помочь... откуда я могу знать... почему ты в депрессии.. по какой причине.... А судя по вопросу... твоя депрессия называется ЛЕНЬ!;От нервов седативное а дальше работать над этим и большое желание вылезти.;Без подробностей у вас не будет конкретных советов возможно хороший психолог нужен.;Ещё возможно что вы депрессией какую нибудь фигню называете.;Взять листок с ручкой и записать все что тревожит, что бы хотелось изменить, что лишнее в жизни и тд.... а дальше осознанно стремиться к достижению спокойствия в душе... Нам не всегда под силу изменить свои обстоятельства, и время от времени мы неизбежно будем сталкиваться со злом.;Однако можно предпринять определенные шаги, чтобы не позволить негативным чувствам преобладать в своей жизни.ЧТО ГОВОРИТ БИБЛИЯСлово Бога признаёт, что больные нуждаются во враче .;Поэтому, если у вас серьезное эмоциональное расстройство, нет ничего неправильного в том, чтобы обратиться за медицинской помощью.;В Псалме 55:22 говорится: «Возложи свое бремя на Господа, и он поддержит тебя.;Молитва к Богу — это не психологический прием.;Это живое общение с Богом, который «близок к удрученным сердцем».Вы также можете поделиться своими чувствами с близким другом.;Судя по всему, Ваша депрессия из-за разрыва отношений?;Если да, то это вероятно, не депрессия вовсе, а одна из стадий расставания \"апатия\", когда нет желания ни к чему в мире.;;Справиться с депрессией может помочь либо работа с психологом в формате регулярных встреч - либо медикаментозное лечение которое может назначить врач-психиатр.;У вас указано что вы из Москвы -выбирайте подходящий вам вариант и обращайтесь за помощью!;Дело в том, что в родах задействовао много сил женщины и послеродовая депрессия - это нормальное состояние.;Обычно оно проходит само без каких либо медикаментов.;Тут важно ен зацикливаться в даном состоянии и не требовать от окружающих всеобщей любви понимания помощи и поддержки и пр. То есть обычные капризы, к которым привыкла беременная женщина.;Возможно теперь у вас есть \"конкуренция\", не вы центр вселенной для семьи, а новорожденный.;Со страхом проще подумать и разобраться, возможно работа с психогом.;У {{NAME}} есть фраза - только мама знает, что ребенку нужно  Для успокоения можно проделать нескольк простых упражнений 1. когда вы ловите себя на навязчивой мысли, говорите себе - я закончил.;И так каждый раз. даже если вы заметили данные мысли часто, говорите Я закончил.;Таким образом нересурсных мыслей становится все меньше и в итоге проходят совсем.;Все что хотели ей сказать, но воспитание не позволило.;После этого письмо сжечь в туалете и смыть пепел 3.;На листе бумаги просто что то рисуете в стиле \"каля-маля\" и в это время думаете о том плохом, что с вами приключилось.;представьте что через руку выходит из мыслей головы, сердца, всего тела весь негатив, который там есть... цвет карандаша или ручки можете выбрать произвольно.;Можно сделать 2 раза в неделю данное упражнение.;4. в течении дня говорите про себя - я хороший.;так делается несколько раз в день.;Особенно когда вам кажется, что все наоборот ...   Впереди еще очень много интересного и конечно без сложностей не обойдется, но материнство - это всегда прекрасно.;ПОздравляю с рождением малыша и рада, что вам удалось испытать счастье быть матерью\n",
            "Как справиться с чувствами?Чтобы твое сердце смирилось с отказом, может понадобиться время.;Симпатия развивалась постепенно, и, чтобы эмоции утихли, тоже нужно время.;Редко удается «отключить» романтические чувства сразу, как отключают свет.;Бывают дни, когда эмоции трудно подавить!;Будь терпелива к себе.;Со временем эти чувства утихнут.;Но если ты хочешь, чтобы они исчезли быстрее, то старайся избегать того, что их подпитывает.Например, старайся не возвращаться мысленно к тому моменту, когда говорила юноше о своих чувствах, оценивая каждое свое слово и жест.;Если не отгонять такие мысли, то в конце концов можно убедить себя, что он не имел в виду «нет», или что ответ был бы другим, если бы ты спросила его иначе.;Пойми, что ты не изменишь его чувства.;Скорее всего, как бы ты его ни спросила, результат был бы тем же.Еще одной ловушкой могут стать мечтания.;Ты рисуешь в своем воображении, как вы вдвоем счастливо живете вместе.;Хотя грезы могут казаться утешительными, они всего лишь мечты.;Вслед за фантазиями снова приходит грусть о несбывшихся надеждах, а с ней и отчаяние.;Такое состояние, когда за приятными мечтаниями возникает невыносимая боль и все повторяется по кругу, может продолжаться долго, если не стараться вырваться из него.Прилагай усилия, чтобы избавиться от этих грез.;Когда они подступают к тебе, встань и пойди на прогулку.;Займись какой-нибудь физической работой, чтобы переключить свои мысли на что-нибудь другое.;Сосредоточься на том, что созидает, а не на том, что вводит тебя в уныние Отлично, значит, пока не надоело.;Развлекайтесь, как хотите.;Влюбишься куда ты денешься.;Не хочешь иди в монастырь, хватит тут себя пиарить.;Для секса без обязательств в самый раз, некоторые будут только рады такому.;Или ты думаешь что кому-то нужна твоя любовь?;Им нужна твоя... сама знаешь что.;Нет, я не пытаюсь тебя обидеть, просто предупреждаю.;Всем плевать.;И на тебя, и друг на друга.;;игнорить ее )))))))) Как что, плакать, страдать всячески расстраиваться.;короче все то, что нужно делать в таких случаях Да хрен на нее забить, а что остается?;Ты ей разонравился.;зАДУМАТЬСЯ, ЧЕМ ТЫ ЕЕ РАЗОЧАРОВАЛ найди другую;Как тебе жилось всё это время без меня?;ты счастлива?;Го в КС я создал)))\n",
            "дружбы вообще никакой нет отличное \"зеркало\" а женской конкуренции не бывает что ли?;Мужчинам конкурировать незачем - они и так востребованы.;А бабы бьются за мужчин!;Дружба бывает только между мужчиной и женщиной..!;Мы мужчинам - подруги, она нам - друзья!;Просто чтобы дружба жила нужны три фактора :ТРИ СПОСОБА СОХРАНИТЬ ДРУЖБУ▪ Будь хорошим слушателем.;Проявляй интерес к тому, чем живет твой друг, что его беспокоит .▪ Умей прощать.;Не ожидай от друзей совершенства.;«Мы все часто оступаемся» .▪ Не ограничивай их собой.;Не нужно ходить за ними по пятам.;Настоящий друг всегда будет рядом, когда это потребуется Подлинная основа дружбы — самоотверженная любовь!;Если строить свои отношения на любви, им не будут страшны ни разногласия, ни трудности.;Женской дружбы не бывает - им мешает ЗАВИСТЬ.;А вот мужикам без дружбы и взаимовыручки на войне никак.;И в мирное время полно профессий, где нужна взаимовыручка - армия, мчс, полиция, шофера.;Так что, автор, ты не прав С точностью до наоборот Бывает разная.;Людей разных возрастов и полов.;Просто тот, кто не умеет дружить, никогда не будет это иметь и в это верить.;;Одной из самых обсуждаемых в интернете, да и не только в нём, тем является — возможна ли дружба между мужчиной и женщиной.;Можно сказать только одно, между мужчиной и женщиной возможна дружба, но встречается данное явление достаточно редко.;Кроме того, дружеские отношения между женщинами и мужчинами часто перерастают в нечто гораздо большее.;Мало кому из парней или девушек понравится такое интересное дружеское общение своей второй половины с противоположным полом.;Постоянные ссоры, обиды и выяснения отношений, в конце концов, приведут к такой ситуации, когда необходимо будет сделать выбор: прекратить общение с мужчиной-другом, либо же отказаться от отношений с любимым – ответ будет очевидным.Вторая причина, это когда один из так называемых друзей встречает вторую половину, а второй начинает ревновать.;Что самое интересное, они спокойно относятся ко вторым половинам друг друга до тех пор, пока у кого-то не появляется серьёзных отношений, и вот как раз тогда, в большей части девушки, понимают, что он для неё не просто друг, и она может его потерять навсегда.;После этого главным вопросом становится: как влюбить в себя парня друга.Бывает дружба между парнем и девушкой или нет – у каждого есть своё личное мнение, но даже ради интереса прочтите различные истории и статьи, где автор поднимает вопрос, существует ли дружба между парнем и девушкой, или есть ли дружба между мужчиной и женщиной.;Поразительно то, что практически все статьи и истории однотипны, либо они перестали общаться в силу обстоятельств: например кто-то из них встретил свою любовь, кто-то поссорился, кто-то уехал, у кого-то просто общение сошло на нет, а у некоторых игра в дружбу зашла слишком далеко и они… - физиология взяла своё.;нонсенс-только вид, а в итоге глубже копнуть--кекс Не-а) Если оба испытываю некую долю физического отвращения.;В противном случае как минимум один из пары мысленно поимел другого во всех позах уже.;если он гомик Бывает, хотя нечасто.;И с девужкой, и даже с бабужкой) скорее нет, чем да Есть.;Мы с мои другом уже дружим 3 года.;Мы с ним как брат и сестра.;Гуляем вместе с друзьями, ходим в кафе и в кино можем пойти.;;У меня есть друзья мужского пола, потому что есть с ними общие интересы, в ином случае дружбы не будет.;у меня есть друзья мужчины... за других говорить сложно...\n",
            "Бабушек) мои, я поэтому себя ими не обременяю Родителей Свои же - я обязательно встрескаюсь.;;Я на таких даже не взглянув, не то, чтобы выбирать Посредственную Меня в них интеллект не интересует, у какой титьки больше?;Жопа более упругая, личико милое?;;Родители в любом случае спалят, рано или поздно.;Лучше как-то прощупать их позицию, может они смогут это принять.;Для меня это н-немного странно.. Но, я думаю что надо рассказать об этом родителям!));Думаю они поймут.. Надеюсь.;Или жесткий вариант (он не очень) : ПЕРЕСТАТЬ ВСТРЕЧАТСЯ С все-таки СЕСТРОЙ!!;Спиногрызы из лагерей и дач вернулись... Скрывйте и всё.Это ваше личное дело.Я бы не рассказывала родителям.;главное - предохраняться Такие отношения не редкость.;Вы по крови не родные, так что облегчите себе участь, поставьте родителей в курс дела.;Пока не поздно.;Не читал включи им поглядеть следствте вели порочная любовь Скажи всё родителям.;Надо жениться...\n",
            "Как он ее терроризирует?;Что конкретно он делает?;это называется безумная попытка овладеть ей);До 10 вечера.;Ну надо же, какой хулиган.;если любишь, то отсоси ему !;конечно, мальчиков много, а ты одна если останешься то точно будешь виновата, если кинешь - то пусть делает с собой что хочет (кстати дай ему верёвку и мыло и скажи \"вперёд\" он ведь не повесится) Как так можно повлиять что руки режит???;(Понемаю если ты бросила, и с психикой не в порядке) Может дело в его психике ?;?;?а не в тебе;Это извращение.;Как можно влюбиться в парня?;Я понимаю там в тёлку.;Но не в парня же.;Ну секс дружбе не помешает!;Занять себя тем, до чего руки никак не доходили.;Увлечетесь, а там уже и забудете.;Писю помой и все пройдет.;Тож мне влюбилась.. сама подумай: зачем ты ему сдалась?;у него своя жизнь в Кёниге, не встревай Пообщайтесь в интернете, а потом назначьте свидание где-нибудь в Петербурге, очень романтичное место!;Дай угодаю, вы общались в те самые ваши дни?\n"
          ]
        }
      ]
    },
    {
      "cell_type": "code",
      "source": [],
      "metadata": {
        "id": "r5Id1RXw9RTW"
      },
      "id": "r5Id1RXw9RTW",
      "execution_count": null,
      "outputs": []
    }
  ],
  "metadata": {
    "kernelspec": {
      "display_name": "Python 3",
      "name": "python3"
    },
    "language_info": {
      "codemirror_mode": {
        "name": "ipython",
        "version": 3
      },
      "file_extension": ".py",
      "mimetype": "text/x-python",
      "name": "python",
      "nbconvert_exporter": "python",
      "pygments_lexer": "ipython3",
      "version": "3.10.11"
    },
    "colab": {
      "provenance": [],
      "gpuType": "T4"
    },
    "accelerator": "GPU",
    "widgets": {
      "application/vnd.jupyter.widget-state+json": {
        "e001b2c5ace74088b94a3c0e83c8ffc4": {
          "model_module": "@jupyter-widgets/controls",
          "model_name": "HBoxModel",
          "model_module_version": "1.5.0",
          "state": {
            "_dom_classes": [],
            "_model_module": "@jupyter-widgets/controls",
            "_model_module_version": "1.5.0",
            "_model_name": "HBoxModel",
            "_view_count": null,
            "_view_module": "@jupyter-widgets/controls",
            "_view_module_version": "1.5.0",
            "_view_name": "HBoxView",
            "box_style": "",
            "children": [
              "IPY_MODEL_b8ffea7c2b9149eba10329a9e0b62f18",
              "IPY_MODEL_52f4275e91fc436ba359e59ab2a06b89",
              "IPY_MODEL_ee91d1632f0b4ca7aa6b9eec88e99226"
            ],
            "layout": "IPY_MODEL_dbde82d05226470db5f8179d5614d743"
          }
        },
        "b8ffea7c2b9149eba10329a9e0b62f18": {
          "model_module": "@jupyter-widgets/controls",
          "model_name": "HTMLModel",
          "model_module_version": "1.5.0",
          "state": {
            "_dom_classes": [],
            "_model_module": "@jupyter-widgets/controls",
            "_model_module_version": "1.5.0",
            "_model_name": "HTMLModel",
            "_view_count": null,
            "_view_module": "@jupyter-widgets/controls",
            "_view_module_version": "1.5.0",
            "_view_name": "HTMLView",
            "description": "",
            "description_tooltip": null,
            "layout": "IPY_MODEL_52e998827cb7452ba9bbd3868896983c",
            "placeholder": "​",
            "style": "IPY_MODEL_f524d52841b04ae08cabd0e59e1b6d97",
            "value": "100%"
          }
        },
        "52f4275e91fc436ba359e59ab2a06b89": {
          "model_module": "@jupyter-widgets/controls",
          "model_name": "FloatProgressModel",
          "model_module_version": "1.5.0",
          "state": {
            "_dom_classes": [],
            "_model_module": "@jupyter-widgets/controls",
            "_model_module_version": "1.5.0",
            "_model_name": "FloatProgressModel",
            "_view_count": null,
            "_view_module": "@jupyter-widgets/controls",
            "_view_module_version": "1.5.0",
            "_view_name": "ProgressView",
            "bar_style": "success",
            "description": "",
            "description_tooltip": null,
            "layout": "IPY_MODEL_9efbf3292ccf443aaccfe499587976dd",
            "max": 60,
            "min": 0,
            "orientation": "horizontal",
            "style": "IPY_MODEL_9742948344d345e3b1506b137fd43312",
            "value": 60
          }
        },
        "ee91d1632f0b4ca7aa6b9eec88e99226": {
          "model_module": "@jupyter-widgets/controls",
          "model_name": "HTMLModel",
          "model_module_version": "1.5.0",
          "state": {
            "_dom_classes": [],
            "_model_module": "@jupyter-widgets/controls",
            "_model_module_version": "1.5.0",
            "_model_name": "HTMLModel",
            "_view_count": null,
            "_view_module": "@jupyter-widgets/controls",
            "_view_module_version": "1.5.0",
            "_view_name": "HTMLView",
            "description": "",
            "description_tooltip": null,
            "layout": "IPY_MODEL_9bd6a493eb1741159be434b5b7a99007",
            "placeholder": "​",
            "style": "IPY_MODEL_18c5384bb1284a119bad454dc7bc1cf2",
            "value": " 60/60 [03:38&lt;00:00,  3.59s/it]"
          }
        },
        "dbde82d05226470db5f8179d5614d743": {
          "model_module": "@jupyter-widgets/base",
          "model_name": "LayoutModel",
          "model_module_version": "1.2.0",
          "state": {
            "_model_module": "@jupyter-widgets/base",
            "_model_module_version": "1.2.0",
            "_model_name": "LayoutModel",
            "_view_count": null,
            "_view_module": "@jupyter-widgets/base",
            "_view_module_version": "1.2.0",
            "_view_name": "LayoutView",
            "align_content": null,
            "align_items": null,
            "align_self": null,
            "border": null,
            "bottom": null,
            "display": null,
            "flex": null,
            "flex_flow": null,
            "grid_area": null,
            "grid_auto_columns": null,
            "grid_auto_flow": null,
            "grid_auto_rows": null,
            "grid_column": null,
            "grid_gap": null,
            "grid_row": null,
            "grid_template_areas": null,
            "grid_template_columns": null,
            "grid_template_rows": null,
            "height": null,
            "justify_content": null,
            "justify_items": null,
            "left": null,
            "margin": null,
            "max_height": null,
            "max_width": null,
            "min_height": null,
            "min_width": null,
            "object_fit": null,
            "object_position": null,
            "order": null,
            "overflow": null,
            "overflow_x": null,
            "overflow_y": null,
            "padding": null,
            "right": null,
            "top": null,
            "visibility": null,
            "width": null
          }
        },
        "52e998827cb7452ba9bbd3868896983c": {
          "model_module": "@jupyter-widgets/base",
          "model_name": "LayoutModel",
          "model_module_version": "1.2.0",
          "state": {
            "_model_module": "@jupyter-widgets/base",
            "_model_module_version": "1.2.0",
            "_model_name": "LayoutModel",
            "_view_count": null,
            "_view_module": "@jupyter-widgets/base",
            "_view_module_version": "1.2.0",
            "_view_name": "LayoutView",
            "align_content": null,
            "align_items": null,
            "align_self": null,
            "border": null,
            "bottom": null,
            "display": null,
            "flex": null,
            "flex_flow": null,
            "grid_area": null,
            "grid_auto_columns": null,
            "grid_auto_flow": null,
            "grid_auto_rows": null,
            "grid_column": null,
            "grid_gap": null,
            "grid_row": null,
            "grid_template_areas": null,
            "grid_template_columns": null,
            "grid_template_rows": null,
            "height": null,
            "justify_content": null,
            "justify_items": null,
            "left": null,
            "margin": null,
            "max_height": null,
            "max_width": null,
            "min_height": null,
            "min_width": null,
            "object_fit": null,
            "object_position": null,
            "order": null,
            "overflow": null,
            "overflow_x": null,
            "overflow_y": null,
            "padding": null,
            "right": null,
            "top": null,
            "visibility": null,
            "width": null
          }
        },
        "f524d52841b04ae08cabd0e59e1b6d97": {
          "model_module": "@jupyter-widgets/controls",
          "model_name": "DescriptionStyleModel",
          "model_module_version": "1.5.0",
          "state": {
            "_model_module": "@jupyter-widgets/controls",
            "_model_module_version": "1.5.0",
            "_model_name": "DescriptionStyleModel",
            "_view_count": null,
            "_view_module": "@jupyter-widgets/base",
            "_view_module_version": "1.2.0",
            "_view_name": "StyleView",
            "description_width": ""
          }
        },
        "9efbf3292ccf443aaccfe499587976dd": {
          "model_module": "@jupyter-widgets/base",
          "model_name": "LayoutModel",
          "model_module_version": "1.2.0",
          "state": {
            "_model_module": "@jupyter-widgets/base",
            "_model_module_version": "1.2.0",
            "_model_name": "LayoutModel",
            "_view_count": null,
            "_view_module": "@jupyter-widgets/base",
            "_view_module_version": "1.2.0",
            "_view_name": "LayoutView",
            "align_content": null,
            "align_items": null,
            "align_self": null,
            "border": null,
            "bottom": null,
            "display": null,
            "flex": null,
            "flex_flow": null,
            "grid_area": null,
            "grid_auto_columns": null,
            "grid_auto_flow": null,
            "grid_auto_rows": null,
            "grid_column": null,
            "grid_gap": null,
            "grid_row": null,
            "grid_template_areas": null,
            "grid_template_columns": null,
            "grid_template_rows": null,
            "height": null,
            "justify_content": null,
            "justify_items": null,
            "left": null,
            "margin": null,
            "max_height": null,
            "max_width": null,
            "min_height": null,
            "min_width": null,
            "object_fit": null,
            "object_position": null,
            "order": null,
            "overflow": null,
            "overflow_x": null,
            "overflow_y": null,
            "padding": null,
            "right": null,
            "top": null,
            "visibility": null,
            "width": null
          }
        },
        "9742948344d345e3b1506b137fd43312": {
          "model_module": "@jupyter-widgets/controls",
          "model_name": "ProgressStyleModel",
          "model_module_version": "1.5.0",
          "state": {
            "_model_module": "@jupyter-widgets/controls",
            "_model_module_version": "1.5.0",
            "_model_name": "ProgressStyleModel",
            "_view_count": null,
            "_view_module": "@jupyter-widgets/base",
            "_view_module_version": "1.2.0",
            "_view_name": "StyleView",
            "bar_color": null,
            "description_width": ""
          }
        },
        "9bd6a493eb1741159be434b5b7a99007": {
          "model_module": "@jupyter-widgets/base",
          "model_name": "LayoutModel",
          "model_module_version": "1.2.0",
          "state": {
            "_model_module": "@jupyter-widgets/base",
            "_model_module_version": "1.2.0",
            "_model_name": "LayoutModel",
            "_view_count": null,
            "_view_module": "@jupyter-widgets/base",
            "_view_module_version": "1.2.0",
            "_view_name": "LayoutView",
            "align_content": null,
            "align_items": null,
            "align_self": null,
            "border": null,
            "bottom": null,
            "display": null,
            "flex": null,
            "flex_flow": null,
            "grid_area": null,
            "grid_auto_columns": null,
            "grid_auto_flow": null,
            "grid_auto_rows": null,
            "grid_column": null,
            "grid_gap": null,
            "grid_row": null,
            "grid_template_areas": null,
            "grid_template_columns": null,
            "grid_template_rows": null,
            "height": null,
            "justify_content": null,
            "justify_items": null,
            "left": null,
            "margin": null,
            "max_height": null,
            "max_width": null,
            "min_height": null,
            "min_width": null,
            "object_fit": null,
            "object_position": null,
            "order": null,
            "overflow": null,
            "overflow_x": null,
            "overflow_y": null,
            "padding": null,
            "right": null,
            "top": null,
            "visibility": null,
            "width": null
          }
        },
        "18c5384bb1284a119bad454dc7bc1cf2": {
          "model_module": "@jupyter-widgets/controls",
          "model_name": "DescriptionStyleModel",
          "model_module_version": "1.5.0",
          "state": {
            "_model_module": "@jupyter-widgets/controls",
            "_model_module_version": "1.5.0",
            "_model_name": "DescriptionStyleModel",
            "_view_count": null,
            "_view_module": "@jupyter-widgets/base",
            "_view_module_version": "1.2.0",
            "_view_name": "StyleView",
            "description_width": ""
          }
        }
      }
    }
  },
  "nbformat": 4,
  "nbformat_minor": 5
}